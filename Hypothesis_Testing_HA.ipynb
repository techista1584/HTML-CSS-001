{
  "cells": [
    {
      "cell_type": "markdown",
      "metadata": {
        "id": "view-in-github",
        "colab_type": "text"
      },
      "source": [
        "<a href=\"https://colab.research.google.com/github/techista1584/HTML-CSS-001/blob/main/Hypothesis_Testing_HA.ipynb\" target=\"_parent\"><img src=\"https://colab.research.google.com/assets/colab-badge.svg\" alt=\"Open In Colab\"/></a>"
      ]
    },
    {
      "cell_type": "code",
      "execution_count": null,
      "metadata": {
        "id": "caXlIQy_OVfg",
        "colab": {
          "base_uri": "https://localhost:8080/"
        },
        "outputId": "52d9583c-a00a-4d7a-e4fe-a5e4dc569101"
      },
      "outputs": [
        {
          "output_type": "stream",
          "name": "stdout",
          "text": [
            "Mounted at /content/drive\n"
          ]
        }
      ],
      "source": [
        "from google.colab import drive\n",
        "drive.mount('/content/drive')"
      ]
    },
    {
      "cell_type": "code",
      "execution_count": null,
      "metadata": {
        "id": "mkJ6Ae39OZhU"
      },
      "outputs": [],
      "source": [
        "import pandas as pd\n",
        "from scipy.stats import ttest_ind, chisquare\n",
        "from statsmodels.stats.proportion import proportions_ztest"
      ]
    },
    {
      "cell_type": "markdown",
      "metadata": {
        "id": "gd1NRgLEOaxt"
      },
      "source": [
        "## US Health Insurance Dataset [(source)](https://www.kaggle.com/datasets/teertha/ushealthinsurancedataset)\n",
        "\n",
        "This dataset contains 1338 rows of insured data, where the Insurance charges are given against the following attributes of the insured: Age, Sex, BMI, Number of Children, Smoker and Region. There are no missing or undefined values in the dataset.\n",
        "\n",
        "For the following exercises, assume that the data was taken from a random sample of users."
      ]
    },
    {
      "cell_type": "code",
      "execution_count": null,
      "metadata": {
        "id": "95bJHuBFl2BM",
        "colab": {
          "base_uri": "https://localhost:8080/",
          "height": 206
        },
        "outputId": "22408200-bb60-42e6-c0db-bf9d152bd7e1"
      },
      "outputs": [
        {
          "output_type": "execute_result",
          "data": {
            "text/plain": [
              "   age     sex     bmi  children smoker     region      charges\n",
              "0   19  female  27.900         0    yes  southwest  16884.92400\n",
              "1   18    male  33.770         1     no  southeast   1725.55230\n",
              "2   28    male  33.000         3     no  southeast   4449.46200\n",
              "3   33    male  22.705         0     no  northwest  21984.47061\n",
              "4   32    male  28.880         0     no  northwest   3866.85520"
            ],
            "text/html": [
              "\n",
              "\n",
              "  <div id=\"df-f044eff6-29f8-4976-aa2f-0d12ce4b945c\">\n",
              "    <div class=\"colab-df-container\">\n",
              "      <div>\n",
              "<style scoped>\n",
              "    .dataframe tbody tr th:only-of-type {\n",
              "        vertical-align: middle;\n",
              "    }\n",
              "\n",
              "    .dataframe tbody tr th {\n",
              "        vertical-align: top;\n",
              "    }\n",
              "\n",
              "    .dataframe thead th {\n",
              "        text-align: right;\n",
              "    }\n",
              "</style>\n",
              "<table border=\"1\" class=\"dataframe\">\n",
              "  <thead>\n",
              "    <tr style=\"text-align: right;\">\n",
              "      <th></th>\n",
              "      <th>age</th>\n",
              "      <th>sex</th>\n",
              "      <th>bmi</th>\n",
              "      <th>children</th>\n",
              "      <th>smoker</th>\n",
              "      <th>region</th>\n",
              "      <th>charges</th>\n",
              "    </tr>\n",
              "  </thead>\n",
              "  <tbody>\n",
              "    <tr>\n",
              "      <th>0</th>\n",
              "      <td>19</td>\n",
              "      <td>female</td>\n",
              "      <td>27.900</td>\n",
              "      <td>0</td>\n",
              "      <td>yes</td>\n",
              "      <td>southwest</td>\n",
              "      <td>16884.92400</td>\n",
              "    </tr>\n",
              "    <tr>\n",
              "      <th>1</th>\n",
              "      <td>18</td>\n",
              "      <td>male</td>\n",
              "      <td>33.770</td>\n",
              "      <td>1</td>\n",
              "      <td>no</td>\n",
              "      <td>southeast</td>\n",
              "      <td>1725.55230</td>\n",
              "    </tr>\n",
              "    <tr>\n",
              "      <th>2</th>\n",
              "      <td>28</td>\n",
              "      <td>male</td>\n",
              "      <td>33.000</td>\n",
              "      <td>3</td>\n",
              "      <td>no</td>\n",
              "      <td>southeast</td>\n",
              "      <td>4449.46200</td>\n",
              "    </tr>\n",
              "    <tr>\n",
              "      <th>3</th>\n",
              "      <td>33</td>\n",
              "      <td>male</td>\n",
              "      <td>22.705</td>\n",
              "      <td>0</td>\n",
              "      <td>no</td>\n",
              "      <td>northwest</td>\n",
              "      <td>21984.47061</td>\n",
              "    </tr>\n",
              "    <tr>\n",
              "      <th>4</th>\n",
              "      <td>32</td>\n",
              "      <td>male</td>\n",
              "      <td>28.880</td>\n",
              "      <td>0</td>\n",
              "      <td>no</td>\n",
              "      <td>northwest</td>\n",
              "      <td>3866.85520</td>\n",
              "    </tr>\n",
              "  </tbody>\n",
              "</table>\n",
              "</div>\n",
              "      <button class=\"colab-df-convert\" onclick=\"convertToInteractive('df-f044eff6-29f8-4976-aa2f-0d12ce4b945c')\"\n",
              "              title=\"Convert this dataframe to an interactive table.\"\n",
              "              style=\"display:none;\">\n",
              "\n",
              "  <svg xmlns=\"http://www.w3.org/2000/svg\" height=\"24px\"viewBox=\"0 0 24 24\"\n",
              "       width=\"24px\">\n",
              "    <path d=\"M0 0h24v24H0V0z\" fill=\"none\"/>\n",
              "    <path d=\"M18.56 5.44l.94 2.06.94-2.06 2.06-.94-2.06-.94-.94-2.06-.94 2.06-2.06.94zm-11 1L8.5 8.5l.94-2.06 2.06-.94-2.06-.94L8.5 2.5l-.94 2.06-2.06.94zm10 10l.94 2.06.94-2.06 2.06-.94-2.06-.94-.94-2.06-.94 2.06-2.06.94z\"/><path d=\"M17.41 7.96l-1.37-1.37c-.4-.4-.92-.59-1.43-.59-.52 0-1.04.2-1.43.59L10.3 9.45l-7.72 7.72c-.78.78-.78 2.05 0 2.83L4 21.41c.39.39.9.59 1.41.59.51 0 1.02-.2 1.41-.59l7.78-7.78 2.81-2.81c.8-.78.8-2.07 0-2.86zM5.41 20L4 18.59l7.72-7.72 1.47 1.35L5.41 20z\"/>\n",
              "  </svg>\n",
              "      </button>\n",
              "\n",
              "\n",
              "\n",
              "    <div id=\"df-15407c05-bd37-4d57-9ded-84d8b9b6fe35\">\n",
              "      <button class=\"colab-df-quickchart\" onclick=\"quickchart('df-15407c05-bd37-4d57-9ded-84d8b9b6fe35')\"\n",
              "              title=\"Suggest charts.\"\n",
              "              style=\"display:none;\">\n",
              "\n",
              "<svg xmlns=\"http://www.w3.org/2000/svg\" height=\"24px\"viewBox=\"0 0 24 24\"\n",
              "     width=\"24px\">\n",
              "    <g>\n",
              "        <path d=\"M19 3H5c-1.1 0-2 .9-2 2v14c0 1.1.9 2 2 2h14c1.1 0 2-.9 2-2V5c0-1.1-.9-2-2-2zM9 17H7v-7h2v7zm4 0h-2V7h2v10zm4 0h-2v-4h2v4z\"/>\n",
              "    </g>\n",
              "</svg>\n",
              "      </button>\n",
              "    </div>\n",
              "\n",
              "<style>\n",
              "  .colab-df-quickchart {\n",
              "    background-color: #E8F0FE;\n",
              "    border: none;\n",
              "    border-radius: 50%;\n",
              "    cursor: pointer;\n",
              "    display: none;\n",
              "    fill: #1967D2;\n",
              "    height: 32px;\n",
              "    padding: 0 0 0 0;\n",
              "    width: 32px;\n",
              "  }\n",
              "\n",
              "  .colab-df-quickchart:hover {\n",
              "    background-color: #E2EBFA;\n",
              "    box-shadow: 0px 1px 2px rgba(60, 64, 67, 0.3), 0px 1px 3px 1px rgba(60, 64, 67, 0.15);\n",
              "    fill: #174EA6;\n",
              "  }\n",
              "\n",
              "  [theme=dark] .colab-df-quickchart {\n",
              "    background-color: #3B4455;\n",
              "    fill: #D2E3FC;\n",
              "  }\n",
              "\n",
              "  [theme=dark] .colab-df-quickchart:hover {\n",
              "    background-color: #434B5C;\n",
              "    box-shadow: 0px 1px 3px 1px rgba(0, 0, 0, 0.15);\n",
              "    filter: drop-shadow(0px 1px 2px rgba(0, 0, 0, 0.3));\n",
              "    fill: #FFFFFF;\n",
              "  }\n",
              "</style>\n",
              "\n",
              "    <script>\n",
              "      async function quickchart(key) {\n",
              "        const containerElement = document.querySelector('#' + key);\n",
              "        const charts = await google.colab.kernel.invokeFunction(\n",
              "            'suggestCharts', [key], {});\n",
              "      }\n",
              "    </script>\n",
              "\n",
              "      <script>\n",
              "\n",
              "function displayQuickchartButton(domScope) {\n",
              "  let quickchartButtonEl =\n",
              "    domScope.querySelector('#df-15407c05-bd37-4d57-9ded-84d8b9b6fe35 button.colab-df-quickchart');\n",
              "  quickchartButtonEl.style.display =\n",
              "    google.colab.kernel.accessAllowed ? 'block' : 'none';\n",
              "}\n",
              "\n",
              "        displayQuickchartButton(document);\n",
              "      </script>\n",
              "      <style>\n",
              "    .colab-df-container {\n",
              "      display:flex;\n",
              "      flex-wrap:wrap;\n",
              "      gap: 12px;\n",
              "    }\n",
              "\n",
              "    .colab-df-convert {\n",
              "      background-color: #E8F0FE;\n",
              "      border: none;\n",
              "      border-radius: 50%;\n",
              "      cursor: pointer;\n",
              "      display: none;\n",
              "      fill: #1967D2;\n",
              "      height: 32px;\n",
              "      padding: 0 0 0 0;\n",
              "      width: 32px;\n",
              "    }\n",
              "\n",
              "    .colab-df-convert:hover {\n",
              "      background-color: #E2EBFA;\n",
              "      box-shadow: 0px 1px 2px rgba(60, 64, 67, 0.3), 0px 1px 3px 1px rgba(60, 64, 67, 0.15);\n",
              "      fill: #174EA6;\n",
              "    }\n",
              "\n",
              "    [theme=dark] .colab-df-convert {\n",
              "      background-color: #3B4455;\n",
              "      fill: #D2E3FC;\n",
              "    }\n",
              "\n",
              "    [theme=dark] .colab-df-convert:hover {\n",
              "      background-color: #434B5C;\n",
              "      box-shadow: 0px 1px 3px 1px rgba(0, 0, 0, 0.15);\n",
              "      filter: drop-shadow(0px 1px 2px rgba(0, 0, 0, 0.3));\n",
              "      fill: #FFFFFF;\n",
              "    }\n",
              "  </style>\n",
              "\n",
              "      <script>\n",
              "        const buttonEl =\n",
              "          document.querySelector('#df-f044eff6-29f8-4976-aa2f-0d12ce4b945c button.colab-df-convert');\n",
              "        buttonEl.style.display =\n",
              "          google.colab.kernel.accessAllowed ? 'block' : 'none';\n",
              "\n",
              "        async function convertToInteractive(key) {\n",
              "          const element = document.querySelector('#df-f044eff6-29f8-4976-aa2f-0d12ce4b945c');\n",
              "          const dataTable =\n",
              "            await google.colab.kernel.invokeFunction('convertToInteractive',\n",
              "                                                     [key], {});\n",
              "          if (!dataTable) return;\n",
              "\n",
              "          const docLinkHtml = 'Like what you see? Visit the ' +\n",
              "            '<a target=\"_blank\" href=https://colab.research.google.com/notebooks/data_table.ipynb>data table notebook</a>'\n",
              "            + ' to learn more about interactive tables.';\n",
              "          element.innerHTML = '';\n",
              "          dataTable['output_type'] = 'display_data';\n",
              "          await google.colab.output.renderOutput(dataTable, element);\n",
              "          const docLink = document.createElement('div');\n",
              "          docLink.innerHTML = docLinkHtml;\n",
              "          element.appendChild(docLink);\n",
              "        }\n",
              "      </script>\n",
              "    </div>\n",
              "  </div>\n"
            ]
          },
          "metadata": {},
          "execution_count": 13
        }
      ],
      "source": [
        "df = pd.read_csv('/content/drive/MyDrive/Colab Notebooks/Home Assignments/5.9.4  HA/insurance.csv')\n",
        "df.head()"
      ]
    },
    {
      "cell_type": "markdown",
      "metadata": {
        "id": "0MUe1U6mDH9V"
      },
      "source": [
        "Using the US Health Insurance Dataset, Test if the insurance charges\n",
        "are different for males vs. females.\n",
        "\n",
        "1. Define the Null and Alternative Hypothesis\n",
        "1. Implement the applicable hypothesis test and calculate the p-values\n",
        "1. What is the conclusion at an alpha of 0.05?\n"
      ]
    },
    {
      "cell_type": "code",
      "execution_count": null,
      "metadata": {
        "id": "5_yUeLaWHDbV",
        "colab": {
          "base_uri": "https://localhost:8080/"
        },
        "outputId": "b4f5b989-cc2a-475c-fa71-1e3d93012552"
      },
      "outputs": [
        {
          "output_type": "stream",
          "name": "stdout",
          "text": [
            "Test statistic:  2.097546590051688\n",
            "p-value:  0.03613272100592976\n",
            "Reject the Null Hypothesis (alpha = 0.05).\n"
          ]
        }
      ],
      "source": [
        "\"\"\"\n",
        "Null Hypothesis: Female Insurance charge = Male Insurance charge\n",
        "Alternative Hypothesis: Female Insurance charge != Male Insurance charge\n",
        "\"\"\"\n",
        "\n",
        "male_charges = df.loc[df.sex=='male', 'charges']\n",
        "female_charges = df.loc[df.sex=='female', 'charges']\n",
        "\n",
        "alpha = 0.05\n",
        "\n",
        "t_stat, p_val = ttest_ind(male_charges, female_charges, alternative='two-sided')    # test statistics and p_value\n",
        "print ('Test statistic: ', t_stat)\n",
        "print ('p-value: ', p_val)\n",
        "\n",
        "if p_val != alpha:    # greater than, less than, etc.?\n",
        "    print (f'Reject the Null Hypothesis (alpha = {alpha}).')\n",
        "else:\n",
        "    print (f'Fail to Reject the Null Hypothesis (alpha = {alpha}).')"
      ]
    },
    {
      "cell_type": "markdown",
      "source": [
        "Conclusion: Insurance charges for male and female are different."
      ],
      "metadata": {
        "id": "nWnw_KAqO8BH"
      }
    },
    {
      "cell_type": "markdown",
      "metadata": {
        "id": "nHxssXZULEh5"
      },
      "source": [
        "Test if the insurance charges are higher for those with children.\n",
        "\n",
        "1. Define the Null and Alternative Hypothesis\n",
        "1. Implement the applicable hypothesis test and calculate the p-values\n",
        "1. What is the conclusion at an alpha of 0.05?\n"
      ]
    },
    {
      "cell_type": "code",
      "execution_count": null,
      "metadata": {
        "id": "I4Bh31h3LjxD",
        "colab": {
          "base_uri": "https://localhost:8080/"
        },
        "outputId": "5755ac26-5f5a-4f04-d52f-2040a31861fa"
      },
      "outputs": [
        {
          "output_type": "stream",
          "name": "stdout",
          "text": [
            "Test statistic:  -2.3720611301669337\n",
            "p-value:  0.9910849126582172\n",
            "Reject the Null Hypothesis (alpha = 0.05).\n"
          ]
        }
      ],
      "source": [
        "\"\"\"\n",
        "Null Hypothesis: Insurance charges < with children\n",
        "Alternative Hypothesis: Insurance charges > with children.\n",
        "\"\"\"\n",
        "\n",
        "no_child = df.loc[df.children==0, 'charges']\n",
        "with_child = df.loc[df.children>0, 'charges']\n",
        "\n",
        "alpha = 0.05\n",
        "\n",
        "t_stat, p_val = ttest_ind(no_child, with_child, alternative='greater')    # get t-stat and p-value\n",
        "print ('Test statistic: ', t_stat)\n",
        "print ('p-value: ', p_val)\n",
        "\n",
        "if p_val > alpha:\n",
        "    print (f'Reject the Null Hypothesis (alpha = {alpha}).')\n",
        "else:\n",
        "    print (f'Fail to Reject the Null Hypothesis (alpha = {alpha}).')"
      ]
    },
    {
      "cell_type": "markdown",
      "source": [
        "Conclusion: Insurance Charges for those with children are higher."
      ],
      "metadata": {
        "id": "OVHz9vhbPafx"
      }
    },
    {
      "cell_type": "markdown",
      "metadata": {
        "id": "jX2HzXg_IP5h"
      },
      "source": [
        "Test if the proportion of smokers is more than 20%\n",
        "\n",
        "1. Define the Null and Alternative Hypothesis\n",
        "1. Implement the applicable hypothesis test and calculate the p-values\n",
        "1. What is the conclusion at an alpha of 0.05?"
      ]
    },
    {
      "cell_type": "code",
      "execution_count": null,
      "metadata": {
        "id": "mSGuRA3iJLLN",
        "colab": {
          "base_uri": "https://localhost:8080/"
        },
        "outputId": "99a633a3-0cdc-4cae-98ff-4ed87d024ec3"
      },
      "outputs": [
        {
          "output_type": "stream",
          "name": "stdout",
          "text": [
            "p-value: 0.33229937909683\n",
            "Reject the Null Hypothesis (alpha = 0.05).\n"
          ]
        }
      ],
      "source": [
        "\"\"\"\n",
        "Null Hypothesis: Fraction of Smokers is less than 20%\n",
        "Alternative Hypothesis: Fraction of Smokers is greater than 20%\n",
        "\"\"\"\n",
        "\n",
        "smokers = df[df.smoker=='yes']\n",
        "non_smokers = df[df.smoker=='no']\n",
        "\n",
        "alpha = 0.05\n",
        "\n",
        "# compute for the p-value\n",
        "z_stat, p_val = proportions_ztest(count=len(smokers),\n",
        "                                  nobs=len(smokers)+len(non_smokers),\n",
        "                                  value=0.2,\n",
        "                                  alternative='larger')\n",
        "print('p-value:', p_val)\n",
        "\n",
        "if p_val > alpha:\n",
        "    print (f'Reject the Null Hypothesis (alpha = {alpha}).')\n",
        "else:\n",
        "    print (f'Fail to Reject the Null Hypothesis (alpha = {alpha}).')"
      ]
    },
    {
      "cell_type": "markdown",
      "source": [
        "Conclusion: Fraction of Smokers is greater than 20%."
      ],
      "metadata": {
        "id": "xcRkuhh6S-fR"
      }
    },
    {
      "cell_type": "markdown",
      "metadata": {
        "id": "ENOrmUwDLw_8"
      },
      "source": [
        "Test if the proportion of smokers from each region follows the table below:\n",
        "\n",
        "|           | Non-Smoker | Smoker |\n",
        "|-----------|------------|-----------|\n",
        "| northeast     | 20%        | 5%        |\n",
        "| northwest | 20%        | 5%       |\n",
        "| southeast | 20%        | 5%       |\n",
        "| southwest | 20%        | 5%       |\n",
        "\n",
        "1. Define the Null and Alternative Hypothesis\n",
        "1. Implement the applicable hypothesis test and calculate the p-values\n",
        "1. What is the conclusion at an alpha of 0.05?"
      ]
    },
    {
      "cell_type": "code",
      "execution_count": null,
      "metadata": {
        "id": "tNvblKdqMCDW",
        "colab": {
          "base_uri": "https://localhost:8080/"
        },
        "outputId": "9b1eb205-d659-4746-85ad-0cdfa3f7d680"
      },
      "outputs": [
        {
          "output_type": "stream",
          "name": "stdout",
          "text": [
            "p-value: 0.0\n",
            "Fail to Reject the Null Hypothesis (alpha = 0.05).\n"
          ]
        }
      ],
      "source": [
        "\"\"\"\n",
        "Null Hypothesis: Non-Smokers and smokers for each region is not equal to 20% and 5% respectively.\n",
        "Alternative Hypothesis: Non-Smokers and smokers for each region is equal to 20% and 5% respectively.\n",
        "\"\"\"\n",
        "\n",
        "obs = df.groupby(['region','smoker']).charges.count()    # smokers per region\n",
        "n_obs = len(df)    # number of observations\n",
        "\n",
        "f_obs = obs.values\n",
        "f_exp = []    # expected frequencies\n",
        "for exp in [0.2, 0.2, 0.2, 0.2, 0.05, 0.05, 0.05, 0.05]:\n",
        "  f_exp.append(exp*n_obs)\n",
        "\n",
        "alpha = 0.05\n",
        "\n",
        "chi_sq, p_val = chisquare(f_obs=f_obs, f_exp=f_exp)\n",
        "print('p-value:', p_val)\n",
        "\n",
        "if p_val == alpha:\n",
        "    print (f'Reject the Null Hypothesis (alpha = {alpha}).')\n",
        "else:\n",
        "    print (f'Fail to Reject the Null Hypothesis (alpha = {alpha}).')"
      ]
    },
    {
      "cell_type": "markdown",
      "source": [
        "Conclusion: Non-Smokers and smokers for each region is not equal to 20% and 5% respectively hence does not follow the proportion in the given table."
      ],
      "metadata": {
        "id": "3p7ZBfzeZ4id"
      }
    }
  ],
  "metadata": {
    "colab": {
      "provenance": [],
      "include_colab_link": true
    },
    "kernelspec": {
      "display_name": "Python 3 (ipykernel)",
      "language": "python",
      "name": "python3"
    },
    "language_info": {
      "codemirror_mode": {
        "name": "ipython",
        "version": 3
      },
      "file_extension": ".py",
      "mimetype": "text/x-python",
      "name": "python",
      "nbconvert_exporter": "python",
      "pygments_lexer": "ipython3",
      "version": "3.8.10"
    }
  },
  "nbformat": 4,
  "nbformat_minor": 0
}